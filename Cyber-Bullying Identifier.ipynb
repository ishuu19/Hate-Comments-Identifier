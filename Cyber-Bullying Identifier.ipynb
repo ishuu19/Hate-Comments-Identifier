{
 "cells": [
  {
   "cell_type": "code",
   "execution_count": 200,
   "id": "7c208063-1b93-47d1-a666-f58308aff866",
   "metadata": {},
   "outputs": [],
   "source": [
    "import pandas as pd\n",
    "import numpy as np\n",
    "import matplotlib.pyplot as plt\n",
    "import seaborn as sns\n",
    "import re"
   ]
  },
  {
   "cell_type": "code",
   "execution_count": 202,
   "id": "41e8784c-4f2b-4fad-9d86-c97498cf597f",
   "metadata": {},
   "outputs": [
    {
     "data": {
      "text/html": [
       "<div>\n",
       "<style scoped>\n",
       "    .dataframe tbody tr th:only-of-type {\n",
       "        vertical-align: middle;\n",
       "    }\n",
       "\n",
       "    .dataframe tbody tr th {\n",
       "        vertical-align: top;\n",
       "    }\n",
       "\n",
       "    .dataframe thead th {\n",
       "        text-align: right;\n",
       "    }\n",
       "</style>\n",
       "<table border=\"1\" class=\"dataframe\">\n",
       "  <thead>\n",
       "    <tr style=\"text-align: right;\">\n",
       "      <th></th>\n",
       "      <th>Text</th>\n",
       "      <th>Label</th>\n",
       "      <th>Types</th>\n",
       "    </tr>\n",
       "  </thead>\n",
       "  <tbody>\n",
       "    <tr>\n",
       "      <th>0</th>\n",
       "      <td>Ten outside soon doctor shake everyone treatme...</td>\n",
       "      <td>Not-Bullying</td>\n",
       "      <td>NaN</td>\n",
       "    </tr>\n",
       "    <tr>\n",
       "      <th>1</th>\n",
       "      <td>my life has come to a standstill and at this p...</td>\n",
       "      <td>Not-Bullying</td>\n",
       "      <td>NaN</td>\n",
       "    </tr>\n",
       "    <tr>\n",
       "      <th>2</th>\n",
       "      <td>girl this nigga make me sick to my stomach</td>\n",
       "      <td>Bullying</td>\n",
       "      <td>Ethnicity</td>\n",
       "    </tr>\n",
       "    <tr>\n",
       "      <th>3</th>\n",
       "      <td>I wanna fuck you</td>\n",
       "      <td>Bullying</td>\n",
       "      <td>Sexual</td>\n",
       "    </tr>\n",
       "    <tr>\n",
       "      <th>4</th>\n",
       "      <td>Oh hey, you should be ashamed of your disgusti...</td>\n",
       "      <td>Not - Bullying</td>\n",
       "      <td>NaN</td>\n",
       "    </tr>\n",
       "    <tr>\n",
       "      <th>5</th>\n",
       "      <td>Haha isn't route running part of the position?...</td>\n",
       "      <td>Bullying</td>\n",
       "      <td>Ethnicity</td>\n",
       "    </tr>\n",
       "    <tr>\n",
       "      <th>6</th>\n",
       "      <td>Racism is when u select yur white clothes to w...</td>\n",
       "      <td>Bullying</td>\n",
       "      <td>Ethnicity</td>\n",
       "    </tr>\n",
       "    <tr>\n",
       "      <th>7</th>\n",
       "      <td>Who are islamists? Those who fully follow the ...</td>\n",
       "      <td>Bullying</td>\n",
       "      <td>Religion</td>\n",
       "    </tr>\n",
       "    <tr>\n",
       "      <th>8</th>\n",
       "      <td>Male action movies...ehhhh @That_Damn_Ram Not ...</td>\n",
       "      <td>Bullying</td>\n",
       "      <td>Religion</td>\n",
       "    </tr>\n",
       "    <tr>\n",
       "      <th>9</th>\n",
       "      <td>Wishing my arena partner was on.</td>\n",
       "      <td>Not Bullying</td>\n",
       "      <td>NaN</td>\n",
       "    </tr>\n",
       "  </tbody>\n",
       "</table>\n",
       "</div>"
      ],
      "text/plain": [
       "                                                Text           Label  \\\n",
       "0  Ten outside soon doctor shake everyone treatme...    Not-Bullying   \n",
       "1  my life has come to a standstill and at this p...    Not-Bullying   \n",
       "2         girl this nigga make me sick to my stomach        Bullying   \n",
       "3                                   I wanna fuck you        Bullying   \n",
       "4  Oh hey, you should be ashamed of your disgusti...  Not - Bullying   \n",
       "5  Haha isn't route running part of the position?...       Bullying    \n",
       "6  Racism is when u select yur white clothes to w...        Bullying   \n",
       "7  Who are islamists? Those who fully follow the ...        Bullying   \n",
       "8  Male action movies...ehhhh @That_Damn_Ram Not ...       Bullying    \n",
       "9                   Wishing my arena partner was on.   Not Bullying    \n",
       "\n",
       "       Types  \n",
       "0        NaN  \n",
       "1        NaN  \n",
       "2  Ethnicity  \n",
       "3     Sexual  \n",
       "4        NaN  \n",
       "5  Ethnicity  \n",
       "6  Ethnicity  \n",
       "7  Religion   \n",
       "8  Religion   \n",
       "9        NaN  "
      ]
     },
     "execution_count": 202,
     "metadata": {},
     "output_type": "execute_result"
    }
   ],
   "source": [
    "df = pd.read_csv(\"Approach to Social Media Cyberbullying and Harassment Detection Using Advanced Machine Learning.csv\")\n",
    "df.head(10)"
   ]
  },
  {
   "cell_type": "code",
   "execution_count": 204,
   "id": "295dac90-a237-4230-b466-e8eea96bdbb3",
   "metadata": {},
   "outputs": [
    {
     "name": "stdout",
     "output_type": "stream",
     "text": [
      "<class 'pandas.core.frame.DataFrame'>\n",
      "RangeIndex: 8452 entries, 0 to 8451\n",
      "Data columns (total 3 columns):\n",
      " #   Column  Non-Null Count  Dtype \n",
      "---  ------  --------------  ----- \n",
      " 0   Text    8452 non-null   object\n",
      " 1   Label   8450 non-null   object\n",
      " 2   Types   4825 non-null   object\n",
      "dtypes: object(3)\n",
      "memory usage: 198.2+ KB\n"
     ]
    }
   ],
   "source": [
    "df.info()"
   ]
  },
  {
   "cell_type": "code",
   "execution_count": 206,
   "id": "46990060-5bd6-4b08-b044-8d6a369d7fd3",
   "metadata": {},
   "outputs": [
    {
     "data": {
      "text/plain": [
       "Index(['Text', 'Label', 'Types'], dtype='object')"
      ]
     },
     "execution_count": 206,
     "metadata": {},
     "output_type": "execute_result"
    }
   ],
   "source": [
    "df.columns"
   ]
  },
  {
   "cell_type": "code",
   "execution_count": 208,
   "id": "6d19f8d3-affd-4dd8-9871-264ca6a33931",
   "metadata": {},
   "outputs": [
    {
     "name": "stdout",
     "output_type": "stream",
     "text": [
      "Unique Labels: \n",
      "['Not-Bullying' 'Bullying' 'Not - Bullying' 'Bullying ' 'Not Bullying '\n",
      " 'Not- Bullying ' 'Not -Bullying' 'Not-Bullying ' 'Not -Bullying '\n",
      " 'Not bullying ' 'Bullying.' 'Not-Bulyying' 'Not-Bulllying' 'Bullyiing'\n",
      " 'Not-Bulying' 'Not- Bullying' 'Bullyibg' 'Bullying  ' nan 'Bullyinfg']\n",
      "\n",
      "Unique Types: \n",
      "[nan 'Ethnicity' 'Sexual' 'Religion ' 'Religion' 'Threats ' 'Troll'\n",
      " 'Troll ' 'sexual' 'Vocational' 'Threats' 'Vocational ' 'Political'\n",
      " 'Ethnicity ' 'Religious ' 'Sexual ' 'Political ' 'Threat' 'Racism'\n",
      " 'Vocation' 'Saxual' 'political ' 'Religon' 'Ethnically ' 'Threat ']\n"
     ]
    }
   ],
   "source": [
    "print(\"Unique Labels: \")\n",
    "print(df['Label'].unique())\n",
    "print()\n",
    "print(\"Unique Types: \")\n",
    "print(df['Types'].unique())"
   ]
  },
  {
   "cell_type": "code",
   "execution_count": 210,
   "id": "320e0190-40fb-4821-83a9-18ab6f1f7a4a",
   "metadata": {},
   "outputs": [
    {
     "data": {
      "text/html": [
       "<div>\n",
       "<style scoped>\n",
       "    .dataframe tbody tr th:only-of-type {\n",
       "        vertical-align: middle;\n",
       "    }\n",
       "\n",
       "    .dataframe tbody tr th {\n",
       "        vertical-align: top;\n",
       "    }\n",
       "\n",
       "    .dataframe thead th {\n",
       "        text-align: right;\n",
       "    }\n",
       "</style>\n",
       "<table border=\"1\" class=\"dataframe\">\n",
       "  <thead>\n",
       "    <tr style=\"text-align: right;\">\n",
       "      <th></th>\n",
       "      <th>Text</th>\n",
       "      <th>Label</th>\n",
       "      <th>Types</th>\n",
       "    </tr>\n",
       "  </thead>\n",
       "  <tbody>\n",
       "    <tr>\n",
       "      <th>1303</th>\n",
       "      <td>Wow, stunning photo!\"</td>\n",
       "      <td>NaN</td>\n",
       "      <td>NaN</td>\n",
       "    </tr>\n",
       "    <tr>\n",
       "      <th>2055</th>\n",
       "      <td>Your posts always brighten up my feed!\"</td>\n",
       "      <td>NaN</td>\n",
       "      <td>NaN</td>\n",
       "    </tr>\n",
       "  </tbody>\n",
       "</table>\n",
       "</div>"
      ],
      "text/plain": [
       "                                         Text Label Types\n",
       "1303                    Wow, stunning photo!\"   NaN   NaN\n",
       "2055  Your posts always brighten up my feed!\"   NaN   NaN"
      ]
     },
     "execution_count": 210,
     "metadata": {},
     "output_type": "execute_result"
    }
   ],
   "source": [
    "df[df['Label'].isna()]"
   ]
  },
  {
   "cell_type": "code",
   "execution_count": 212,
   "id": "78eb6e7f-04c5-42c4-8626-efb81d678941",
   "metadata": {},
   "outputs": [
    {
     "data": {
      "text/html": [
       "<div>\n",
       "<style scoped>\n",
       "    .dataframe tbody tr th:only-of-type {\n",
       "        vertical-align: middle;\n",
       "    }\n",
       "\n",
       "    .dataframe tbody tr th {\n",
       "        vertical-align: top;\n",
       "    }\n",
       "\n",
       "    .dataframe thead th {\n",
       "        text-align: right;\n",
       "    }\n",
       "</style>\n",
       "<table border=\"1\" class=\"dataframe\">\n",
       "  <thead>\n",
       "    <tr style=\"text-align: right;\">\n",
       "      <th></th>\n",
       "      <th>Text</th>\n",
       "      <th>Label</th>\n",
       "      <th>Types</th>\n",
       "    </tr>\n",
       "  </thead>\n",
       "  <tbody>\n",
       "    <tr>\n",
       "      <th>0</th>\n",
       "      <td>Ten outside soon doctor shake everyone treatme...</td>\n",
       "      <td>Not-Bullying</td>\n",
       "      <td>NaN</td>\n",
       "    </tr>\n",
       "    <tr>\n",
       "      <th>1</th>\n",
       "      <td>my life has come to a standstill and at this p...</td>\n",
       "      <td>Not-Bullying</td>\n",
       "      <td>NaN</td>\n",
       "    </tr>\n",
       "    <tr>\n",
       "      <th>4</th>\n",
       "      <td>Oh hey, you should be ashamed of your disgusti...</td>\n",
       "      <td>Not - Bullying</td>\n",
       "      <td>NaN</td>\n",
       "    </tr>\n",
       "    <tr>\n",
       "      <th>9</th>\n",
       "      <td>Wishing my arena partner was on.</td>\n",
       "      <td>Not Bullying</td>\n",
       "      <td>NaN</td>\n",
       "    </tr>\n",
       "    <tr>\n",
       "      <th>10</th>\n",
       "      <td>I hope this round humbled the girls, they can'...</td>\n",
       "      <td>Not- Bullying</td>\n",
       "      <td>NaN</td>\n",
       "    </tr>\n",
       "    <tr>\n",
       "      <th>...</th>\n",
       "      <td>...</td>\n",
       "      <td>...</td>\n",
       "      <td>...</td>\n",
       "    </tr>\n",
       "    <tr>\n",
       "      <th>8433</th>\n",
       "      <td>Why does god require you to defend Islam, kill...</td>\n",
       "      <td>Not-Bullying</td>\n",
       "      <td>NaN</td>\n",
       "    </tr>\n",
       "    <tr>\n",
       "      <th>8434</th>\n",
       "      <td>I appreciate you revealing your true identity ...</td>\n",
       "      <td>Not-Bullying</td>\n",
       "      <td>NaN</td>\n",
       "    </tr>\n",
       "    <tr>\n",
       "      <th>8435</th>\n",
       "      <td>Donald Trump's position on radical Islamic ter...</td>\n",
       "      <td>Not-Bullying</td>\n",
       "      <td>NaN</td>\n",
       "    </tr>\n",
       "    <tr>\n",
       "      <th>8436</th>\n",
       "      <td>The terrorists do not speak for Islam; instead...</td>\n",
       "      <td>Not-Bullying</td>\n",
       "      <td>NaN</td>\n",
       "    </tr>\n",
       "    <tr>\n",
       "      <th>8437</th>\n",
       "      <td>I will support Ohh Humanity if Hindutva fights...</td>\n",
       "      <td>Not-Bullying</td>\n",
       "      <td>NaN</td>\n",
       "    </tr>\n",
       "  </tbody>\n",
       "</table>\n",
       "<p>3627 rows × 3 columns</p>\n",
       "</div>"
      ],
      "text/plain": [
       "                                                   Text           Label Types\n",
       "0     Ten outside soon doctor shake everyone treatme...    Not-Bullying   NaN\n",
       "1     my life has come to a standstill and at this p...    Not-Bullying   NaN\n",
       "4     Oh hey, you should be ashamed of your disgusti...  Not - Bullying   NaN\n",
       "9                      Wishing my arena partner was on.   Not Bullying    NaN\n",
       "10    I hope this round humbled the girls, they can'...  Not- Bullying    NaN\n",
       "...                                                 ...             ...   ...\n",
       "8433  Why does god require you to defend Islam, kill...    Not-Bullying   NaN\n",
       "8434  I appreciate you revealing your true identity ...    Not-Bullying   NaN\n",
       "8435  Donald Trump's position on radical Islamic ter...    Not-Bullying   NaN\n",
       "8436  The terrorists do not speak for Islam; instead...    Not-Bullying   NaN\n",
       "8437  I will support Ohh Humanity if Hindutva fights...    Not-Bullying   NaN\n",
       "\n",
       "[3627 rows x 3 columns]"
      ]
     },
     "execution_count": 212,
     "metadata": {},
     "output_type": "execute_result"
    }
   ],
   "source": [
    "df[df['Types'].isna()]"
   ]
  },
  {
   "cell_type": "code",
   "execution_count": 214,
   "id": "f2f9a932-02e5-4e20-bcd6-c7622901135c",
   "metadata": {},
   "outputs": [
    {
     "data": {
      "text/plain": [
       "Text        0\n",
       "Label       2\n",
       "Types    3627\n",
       "dtype: int64"
      ]
     },
     "execution_count": 214,
     "metadata": {},
     "output_type": "execute_result"
    }
   ],
   "source": [
    "df.isna().sum()"
   ]
  },
  {
   "cell_type": "code",
   "execution_count": 216,
   "id": "43eda98b-f308-4281-91e5-c141713d5e73",
   "metadata": {},
   "outputs": [],
   "source": [
    "df = df.dropna(subset=[\"Label\"])"
   ]
  },
  {
   "cell_type": "code",
   "execution_count": 218,
   "id": "51197603-295f-4d5f-8b6c-3f56c77e6302",
   "metadata": {},
   "outputs": [
    {
     "data": {
      "text/html": [
       "<div>\n",
       "<style scoped>\n",
       "    .dataframe tbody tr th:only-of-type {\n",
       "        vertical-align: middle;\n",
       "    }\n",
       "\n",
       "    .dataframe tbody tr th {\n",
       "        vertical-align: top;\n",
       "    }\n",
       "\n",
       "    .dataframe thead th {\n",
       "        text-align: right;\n",
       "    }\n",
       "</style>\n",
       "<table border=\"1\" class=\"dataframe\">\n",
       "  <thead>\n",
       "    <tr style=\"text-align: right;\">\n",
       "      <th></th>\n",
       "      <th>Text</th>\n",
       "      <th>Label</th>\n",
       "      <th>Types</th>\n",
       "    </tr>\n",
       "  </thead>\n",
       "  <tbody>\n",
       "    <tr>\n",
       "      <th>0</th>\n",
       "      <td>Ten outside soon doctor shake everyone treatme...</td>\n",
       "      <td>NB</td>\n",
       "      <td>NaN</td>\n",
       "    </tr>\n",
       "    <tr>\n",
       "      <th>1</th>\n",
       "      <td>my life has come to a standstill and at this p...</td>\n",
       "      <td>NB</td>\n",
       "      <td>NaN</td>\n",
       "    </tr>\n",
       "    <tr>\n",
       "      <th>2</th>\n",
       "      <td>girl this nigga make me sick to my stomach</td>\n",
       "      <td>B</td>\n",
       "      <td>Ethnicity</td>\n",
       "    </tr>\n",
       "    <tr>\n",
       "      <th>3</th>\n",
       "      <td>I wanna fuck you</td>\n",
       "      <td>B</td>\n",
       "      <td>Sexual</td>\n",
       "    </tr>\n",
       "    <tr>\n",
       "      <th>4</th>\n",
       "      <td>Oh hey, you should be ashamed of your disgusti...</td>\n",
       "      <td>NB</td>\n",
       "      <td>NaN</td>\n",
       "    </tr>\n",
       "  </tbody>\n",
       "</table>\n",
       "</div>"
      ],
      "text/plain": [
       "                                                Text Label      Types\n",
       "0  Ten outside soon doctor shake everyone treatme...    NB        NaN\n",
       "1  my life has come to a standstill and at this p...    NB        NaN\n",
       "2         girl this nigga make me sick to my stomach     B  Ethnicity\n",
       "3                                   I wanna fuck you     B     Sexual\n",
       "4  Oh hey, you should be ashamed of your disgusti...    NB        NaN"
      ]
     },
     "execution_count": 218,
     "metadata": {},
     "output_type": "execute_result"
    }
   ],
   "source": [
    "df.loc[df[\"Label\"].str.startswith(\"N\"),\"Label\"] = \"NB\"\n",
    "df.loc[df[\"Label\"].str.startswith(\"B\"),\"Label\"] = \"B\"\n",
    "df.head()"
   ]
  },
  {
   "cell_type": "code",
   "execution_count": 220,
   "id": "bef1d232-b4e5-4e9e-b389-8aa6147222cb",
   "metadata": {},
   "outputs": [],
   "source": [
    "df['Types'] = df[['Types']].fillna(value=\"Unknown\")"
   ]
  },
  {
   "cell_type": "code",
   "execution_count": 222,
   "id": "bf489bf7-3276-4bc0-9c17-3fb48ddf2bad",
   "metadata": {},
   "outputs": [
    {
     "data": {
      "text/plain": [
       "Text     8450\n",
       "Label    8450\n",
       "Types    8450\n",
       "dtype: int64"
      ]
     },
     "execution_count": 222,
     "metadata": {},
     "output_type": "execute_result"
    }
   ],
   "source": [
    "df.isna().count()"
   ]
  },
  {
   "cell_type": "code",
   "execution_count": 224,
   "id": "27983031-ffeb-4b96-b1d5-3f24d3a745eb",
   "metadata": {},
   "outputs": [],
   "source": [
    "df['Types'] = df['Types'].apply(lambda s:s.lower().strip())"
   ]
  },
  {
   "cell_type": "code",
   "execution_count": 226,
   "id": "f7b0b569-596f-42b6-a51b-0f246e562fbe",
   "metadata": {},
   "outputs": [
    {
     "data": {
      "text/plain": [
       "array(['unknown', 'ethnicity', 'sexual', 'religion', 'threat', 'troll',\n",
       "       'vocational'], dtype=object)"
      ]
     },
     "execution_count": 226,
     "metadata": {},
     "output_type": "execute_result"
    }
   ],
   "source": [
    "d = {\"e\":\"ethnicity\",\"r\":\"religion\",\"s\":\"sexual\",\"v\":\"vocational\",'th':\"threat\",'tr':\"troll\"}\n",
    "def map_type(s):\n",
    "    if s[:2] in d:\n",
    "        return d[s[:2]]\n",
    "    elif s[0] in d:\n",
    "        return d[s[0]]\n",
    "    else:\n",
    "        return \"unknown\"\n",
    "\n",
    "df['Types'] = df['Types'].apply(map_type)\n",
    "\n",
    "df[\"Types\"].unique()"
   ]
  },
  {
   "cell_type": "code",
   "execution_count": 228,
   "id": "9a03dae7-ce01-418b-b3ee-abefc879888b",
   "metadata": {},
   "outputs": [
    {
     "data": {
      "text/html": [
       "<div>\n",
       "<style scoped>\n",
       "    .dataframe tbody tr th:only-of-type {\n",
       "        vertical-align: middle;\n",
       "    }\n",
       "\n",
       "    .dataframe tbody tr th {\n",
       "        vertical-align: top;\n",
       "    }\n",
       "\n",
       "    .dataframe thead th {\n",
       "        text-align: right;\n",
       "    }\n",
       "</style>\n",
       "<table border=\"1\" class=\"dataframe\">\n",
       "  <thead>\n",
       "    <tr style=\"text-align: right;\">\n",
       "      <th></th>\n",
       "      <th>Text</th>\n",
       "      <th>Label</th>\n",
       "      <th>Types</th>\n",
       "    </tr>\n",
       "  </thead>\n",
       "  <tbody>\n",
       "    <tr>\n",
       "      <th>0</th>\n",
       "      <td>Ten outside soon doctor shake everyone treatme...</td>\n",
       "      <td>NB</td>\n",
       "      <td>unknown</td>\n",
       "    </tr>\n",
       "    <tr>\n",
       "      <th>1</th>\n",
       "      <td>my life has come to a standstill and at this p...</td>\n",
       "      <td>NB</td>\n",
       "      <td>unknown</td>\n",
       "    </tr>\n",
       "    <tr>\n",
       "      <th>2</th>\n",
       "      <td>girl this nigga make me sick to my stomach</td>\n",
       "      <td>B</td>\n",
       "      <td>ethnicity</td>\n",
       "    </tr>\n",
       "    <tr>\n",
       "      <th>3</th>\n",
       "      <td>I wanna fuck you</td>\n",
       "      <td>B</td>\n",
       "      <td>sexual</td>\n",
       "    </tr>\n",
       "    <tr>\n",
       "      <th>4</th>\n",
       "      <td>Oh hey, you should be ashamed of your disgusti...</td>\n",
       "      <td>NB</td>\n",
       "      <td>unknown</td>\n",
       "    </tr>\n",
       "  </tbody>\n",
       "</table>\n",
       "</div>"
      ],
      "text/plain": [
       "                                                Text Label      Types\n",
       "0  Ten outside soon doctor shake everyone treatme...    NB    unknown\n",
       "1  my life has come to a standstill and at this p...    NB    unknown\n",
       "2         girl this nigga make me sick to my stomach     B  ethnicity\n",
       "3                                   I wanna fuck you     B     sexual\n",
       "4  Oh hey, you should be ashamed of your disgusti...    NB    unknown"
      ]
     },
     "execution_count": 228,
     "metadata": {},
     "output_type": "execute_result"
    }
   ],
   "source": [
    "df.head()"
   ]
  },
  {
   "cell_type": "code",
   "execution_count": 230,
   "id": "49858451-d61c-4b16-8e0f-dc7b8f09ce53",
   "metadata": {},
   "outputs": [],
   "source": [
    "def clean_text(text):\n",
    "    text = text.lower()\n",
    "    text = re.sub(r\"http\\S+\", \"\", text)              # remove URLs\n",
    "    text = re.sub(r\"[^a-z\\s]\", \"\", text)             # remove punctuation and numbers\n",
    "    text = re.sub(r\"\\s+\", \" \", text).strip()         # remove extra spaces\n",
    "    return text\n",
    "\n",
    "df['Text'] = df['Text'].apply(clean_text)"
   ]
  },
  {
   "cell_type": "code",
   "execution_count": 232,
   "id": "f3610460-fb4d-4470-95e8-df3532a34f88",
   "metadata": {},
   "outputs": [],
   "source": [
    "df['Label'] = df['Label'].map({'B': 1, 'NB': 0})"
   ]
  },
  {
   "cell_type": "code",
   "execution_count": 234,
   "id": "5502489d-6fe1-4287-afdb-06d04f4ad68c",
   "metadata": {},
   "outputs": [],
   "source": [
    "import pandas as pd\n",
    "from sklearn.model_selection import train_test_split\n",
    "from sklearn.feature_extraction.text import TfidfVectorizer\n",
    "from sklearn.preprocessing import OneHotEncoder\n",
    "from sklearn.compose import ColumnTransformer\n",
    "from sklearn.pipeline import Pipeline\n",
    "from sklearn.metrics import classification_report\n",
    "\n",
    "# Models\n",
    "from sklearn.linear_model import LogisticRegression\n",
    "from sklearn.ensemble import RandomForestClassifier\n",
    "from sklearn.svm import SVC\n",
    "import joblib\n",
    "\n",
    "try:\n",
    "    from xgboost import XGBClassifier\n",
    "    xgb_available = True\n",
    "except ImportError:\n",
    "    xgb_available = False"
   ]
  },
  {
   "cell_type": "code",
   "execution_count": 236,
   "id": "038fbb68-02e6-4c06-99c6-5ad13f3980f4",
   "metadata": {},
   "outputs": [],
   "source": [
    "X = df[['Text']]\n",
    "y = df['Label']\n",
    "X_train, X_test, y_train, y_test = train_test_split(X, y, stratify=y, test_size=0.2, random_state=42)"
   ]
  },
  {
   "cell_type": "code",
   "execution_count": 245,
   "id": "34d7c4c0-b2e0-4421-bb33-aaa1ba89516e",
   "metadata": {},
   "outputs": [],
   "source": [
    "# Preprocessing pipeline\n",
    "preprocessor = ColumnTransformer(\n",
    "    transformers=[\n",
    "        ('text', TfidfVectorizer(ngram_range=(1,2), max_features=5000), 'Text')\n",
    "    ]\n",
    ")"
   ]
  },
  {
   "cell_type": "code",
   "execution_count": 247,
   "id": "f32d07de-2d7a-4f37-b63a-aefe08b15eee",
   "metadata": {},
   "outputs": [
    {
     "name": "stdout",
     "output_type": "stream",
     "text": [
      "\n",
      "🔍 Model: Logistic Regression\n",
      "              precision    recall  f1-score   support\n",
      "\n",
      "           0       0.92      0.82      0.87       723\n",
      "           1       0.88      0.94      0.91       967\n",
      "\n",
      "    accuracy                           0.89      1690\n",
      "   macro avg       0.90      0.88      0.89      1690\n",
      "weighted avg       0.89      0.89      0.89      1690\n",
      "\n",
      "\n",
      "🔍 Model: Random Forest\n",
      "              precision    recall  f1-score   support\n",
      "\n",
      "           0       0.89      0.85      0.87       723\n",
      "           1       0.89      0.92      0.91       967\n",
      "\n",
      "    accuracy                           0.89      1690\n",
      "   macro avg       0.89      0.89      0.89      1690\n",
      "weighted avg       0.89      0.89      0.89      1690\n",
      "\n",
      "\n",
      "🔍 Model: SVM\n",
      "              precision    recall  f1-score   support\n",
      "\n",
      "           0       0.90      0.87      0.89       723\n",
      "           1       0.90      0.93      0.92       967\n",
      "\n",
      "    accuracy                           0.90      1690\n",
      "   macro avg       0.90      0.90      0.90      1690\n",
      "weighted avg       0.90      0.90      0.90      1690\n",
      "\n",
      "\n",
      "🔍 Model: XGBoost\n"
     ]
    },
    {
     "name": "stderr",
     "output_type": "stream",
     "text": [
      "C:\\Users\\User\\anaconda3\\Lib\\site-packages\\xgboost\\training.py:183: UserWarning: [00:59:23] WARNING: C:\\actions-runner\\_work\\xgboost\\xgboost\\src\\learner.cc:738: \n",
      "Parameters: { \"use_label_encoder\" } are not used.\n",
      "\n",
      "  bst.update(dtrain, iteration=i, fobj=obj)\n"
     ]
    },
    {
     "name": "stdout",
     "output_type": "stream",
     "text": [
      "              precision    recall  f1-score   support\n",
      "\n",
      "           0       0.91      0.79      0.85       723\n",
      "           1       0.86      0.94      0.90       967\n",
      "\n",
      "    accuracy                           0.88      1690\n",
      "   macro avg       0.88      0.87      0.87      1690\n",
      "weighted avg       0.88      0.88      0.88      1690\n",
      "\n"
     ]
    }
   ],
   "source": [
    "# List of models to try\n",
    "models = {\n",
    "    \"Logistic Regression\": LogisticRegression(max_iter=1000),\n",
    "    \"Random Forest\": RandomForestClassifier(n_estimators=100),\n",
    "    \"SVM\": SVC(kernel='linear')\n",
    "}\n",
    "\n",
    "if xgb_available:\n",
    "    models[\"XGBoost\"] = XGBClassifier(use_label_encoder=False, eval_metric='logloss')\n",
    "\n",
    "# Train and evaluate all models\n",
    "for name, model in models.items():\n",
    "    print(f\"\\n🔍 Model: {name}\")\n",
    "    pipeline = Pipeline([\n",
    "        ('features', preprocessor),\n",
    "        ('classifier', model)\n",
    "    ])\n",
    "    pipeline.fit(X_train, y_train)\n",
    "    y_pred = pipeline.predict(X_test)\n",
    "    print(classification_report(y_test, y_pred))"
   ]
  },
  {
   "cell_type": "code",
   "execution_count": 249,
   "id": "4b00afeb-e977-4c38-a022-daa2485ae920",
   "metadata": {},
   "outputs": [
    {
     "name": "stdout",
     "output_type": "stream",
     "text": [
      "Model trained and saved as 'svm_hate_speech_model.pkl'\n"
     ]
    }
   ],
   "source": [
    "# Final SVM pipeline\n",
    "pipeline = Pipeline([\n",
    "    ('features', preprocessor),\n",
    "    ('classifier', SVC(kernel='linear', probability=True))\n",
    "])\n",
    "\n",
    "# Train on full dataset\n",
    "pipeline.fit(X, y)\n",
    "\n",
    "# Save model\n",
    "joblib.dump(pipeline, 'svm_hate_speech_model.pkl')\n",
    "print(\"Model trained and saved as 'svm_hate_speech_model.pkl'\")"
   ]
  },
  {
   "cell_type": "code",
   "execution_count": null,
   "id": "12ab1cda-24c0-4e0f-97f2-166ffe04aca9",
   "metadata": {},
   "outputs": [],
   "source": []
  },
  {
   "cell_type": "markdown",
   "id": "f3b6e375-01dc-432c-9f9c-4e2472e9b3c0",
   "metadata": {},
   "source": [
    "# I did not want to include the types because in real life comments, there will not be any types mentioned"
   ]
  },
  {
   "cell_type": "code",
   "execution_count": 259,
   "id": "ba24ee27-896c-4d51-8d8d-449c8953602f",
   "metadata": {},
   "outputs": [],
   "source": [
    "# Check\n",
    "model = joblib.load('svm_hate_speech_model.pkl')"
   ]
  },
  {
   "cell_type": "code",
   "execution_count": 261,
   "id": "9d604d5a-57ca-450a-9ed4-2e75e9f963a6",
   "metadata": {},
   "outputs": [
    {
     "name": "stdout",
     "output_type": "stream",
     "text": [
      "                               Text     Types     Label  Confidence (Hate)\n",
      "0            I hate people like you    threat      Hate               0.60\n",
      "1          You're amazing and kind!   unknown  Non-Hate               0.06\n",
      "2     You disgusting troll, go away     troll      Hate               0.60\n",
      "3         Your religion is nonsense  religion      Hate               0.94\n",
      "4   We must protect every ethnicity   unknown  Non-Hate               0.17\n",
      "5  I want to sleep with you tonight    sexual      Hate               0.94\n"
     ]
    }
   ],
   "source": [
    "# Sample test data\n",
    "test_data = pd.DataFrame({\n",
    "    'Text': [\n",
    "        \"I hate people like you\",                         # likely hate speech\n",
    "        \"You're amazing and kind!\",                      # non-hate\n",
    "        \"You disgusting troll, go away\",                 # insult/troll\n",
    "        \"Your religion is nonsense\",                     # religion hate\n",
    "        \"We must protect every ethnicity\",              # neutral\n",
    "        \"I want to sleep with you tonight\",              # sexual\n",
    "    ],\n",
    "    'Types': [\n",
    "        \"threat\", \"unknown\", \"troll\", \"religion\", \"unknown\", \"sexual\"\n",
    "    ]\n",
    "})\n",
    "\n",
    "# Predict\n",
    "predictions = model.predict(test_data)\n",
    "proba = model.predict_proba(test_data)\n",
    "\n",
    "# Add results\n",
    "test_data[\"Prediction\"] = predictions\n",
    "test_data[\"Confidence (Hate)\"] = proba[:,1].round(2)\n",
    "test_data[\"Label\"] = test_data[\"Prediction\"].map({1: \"Hate\", 0: \"Non-Hate\"})\n",
    "\n",
    "print(test_data[[\"Text\", \"Types\", \"Label\", \"Confidence (Hate)\"]])\n"
   ]
  },
  {
   "cell_type": "code",
   "execution_count": null,
   "id": "4dd5f12e-1d53-4ae2-be94-2f3c8a93d5df",
   "metadata": {},
   "outputs": [],
   "source": []
  },
  {
   "cell_type": "code",
   "execution_count": null,
   "id": "673f56f7-785a-4717-a49b-ac254cf3c986",
   "metadata": {},
   "outputs": [],
   "source": []
  }
 ],
 "metadata": {
  "kernelspec": {
   "display_name": "Python 3 (ipykernel)",
   "language": "python",
   "name": "python3"
  },
  "language_info": {
   "codemirror_mode": {
    "name": "ipython",
    "version": 3
   },
   "file_extension": ".py",
   "mimetype": "text/x-python",
   "name": "python",
   "nbconvert_exporter": "python",
   "pygments_lexer": "ipython3",
   "version": "3.12.7"
  }
 },
 "nbformat": 4,
 "nbformat_minor": 5
}
